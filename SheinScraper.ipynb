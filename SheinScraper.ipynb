{
 "cells": [
  {
   "cell_type": "code",
   "execution_count": 1,
   "id": "42180b0f",
   "metadata": {},
   "outputs": [],
   "source": [
    "# Libraries import\n",
    "import selenium\n",
    "\n",
    "from selenium import webdriver\n",
    "from selenium.webdriver.common.keys import Keys\n",
    "import pandas as pd"
   ]
  },
  {
   "cell_type": "code",
   "execution_count": 2,
   "id": "f03704f3",
   "metadata": {},
   "outputs": [
    {
     "name": "stderr",
     "output_type": "stream",
     "text": [
      "/var/folders/c5/yq5hwz6x591dwtqs54tvkdnw0000gn/T/ipykernel_6047/2870080667.py:3: DeprecationWarning: executable_path has been deprecated, please pass in a Service object\n",
      "  driver = webdriver.Chrome('/../chromedriver')\n"
     ]
    }
   ],
   "source": [
    "#Initialising webdriver by creating driver variable and get method opens the site\n",
    "\n",
    "driver = webdriver.Chrome('/../chromedriver')\n",
    "\n",
    "driver.get('https://us.shein.com/Kitchen-Tools-Gadgets-c-3590.html?ici=us_tab03navbar03menu02dir01&src_module=topcat&src_tab_page_id=page_home1680201918409&src_identifier=fc%3DHome%60sc%3DKITCHEN%20%26%20DINING%60tc%3DKITCHEN%20UTENSILS%20%26%20TOOLS%60oc%3DKitchen%20Accessories%60ps%3Dtab03navbar03menu02dir01%60jc%3Dreal_3590&srctype=category&userpath=category-KITCHEN-DINING-KITCHEN-UTENSILS-TOOLS-Kitchen-Accessories&sort=7')\n",
    "driver.maximize_window()\n"
   ]
  },
  {
   "cell_type": "code",
   "execution_count": 3,
   "id": "04902bbd",
   "metadata": {
    "scrolled": true
   },
   "outputs": [],
   "source": [
    "#x closes the pop up when website opens\n",
    "x = driver.find_element('xpath', '/html/body/div[1]/div[5]/div/div[1]/div/div[2]/div/i')\n",
    "x.click()"
   ]
  },
  {
   "cell_type": "code",
   "execution_count": 4,
   "id": "41501c47",
   "metadata": {},
   "outputs": [],
   "source": [
    "# Tracks and stores all the product names on the shein kitchen and dining top rated website \n",
    "product_name = driver.find_elements('xpath', '/html/body/div[1]/div[1]/div/div[2]/div[2]/section/div[1]/section/div[2]/div[1]/a')\n",
    "\n"
   ]
  },
  {
   "cell_type": "code",
   "execution_count": 5,
   "id": "49d54915",
   "metadata": {},
   "outputs": [
    {
     "data": {
      "text/plain": [
       "120"
      ]
     },
     "execution_count": 5,
     "metadata": {},
     "output_type": "execute_result"
    }
   ],
   "source": [
    "#Counts the number of products tracked on the site\n",
    "len(product_name)"
   ]
  },
  {
   "cell_type": "code",
   "execution_count": 6,
   "id": "edc3ebbf",
   "metadata": {},
   "outputs": [],
   "source": [
    "# Tracks and stores all the product prices on the bestsellers list\n",
    "\n",
    "product_newprice = driver.find_elements('xpath', '/html/body/div[1]/div[1]/div/div[2]/div[2]/section/div[1]/section/div[2]/div[2]/section/div[1]/span[1]')\n"
   ]
  },
  {
   "cell_type": "code",
   "execution_count": null,
   "id": "653f611a",
   "metadata": {},
   "outputs": [],
   "source": []
  },
  {
   "cell_type": "code",
   "execution_count": 7,
   "id": "6d13d56f",
   "metadata": {},
   "outputs": [],
   "source": [
    "# Creates a dataframe with required variables\n",
    "\n",
    "df_products = pd.DataFrame(columns=['Product Name', 'Price New'])"
   ]
  },
  {
   "cell_type": "code",
   "execution_count": 8,
   "id": "dfc6fddc",
   "metadata": {},
   "outputs": [
    {
     "data": {
      "text/html": [
       "<div>\n",
       "<style scoped>\n",
       "    .dataframe tbody tr th:only-of-type {\n",
       "        vertical-align: middle;\n",
       "    }\n",
       "\n",
       "    .dataframe tbody tr th {\n",
       "        vertical-align: top;\n",
       "    }\n",
       "\n",
       "    .dataframe thead th {\n",
       "        text-align: right;\n",
       "    }\n",
       "</style>\n",
       "<table border=\"1\" class=\"dataframe\">\n",
       "  <thead>\n",
       "    <tr style=\"text-align: right;\">\n",
       "      <th></th>\n",
       "      <th>Product Name</th>\n",
       "      <th>Price New</th>\n",
       "    </tr>\n",
       "  </thead>\n",
       "  <tbody>\n",
       "  </tbody>\n",
       "</table>\n",
       "</div>"
      ],
      "text/plain": [
       "Empty DataFrame\n",
       "Columns: [Product Name, Price New]\n",
       "Index: []"
      ]
     },
     "execution_count": 8,
     "metadata": {},
     "output_type": "execute_result"
    }
   ],
   "source": [
    "df_products"
   ]
  },
  {
   "cell_type": "code",
   "execution_count": 9,
   "id": "70c95383",
   "metadata": {},
   "outputs": [
    {
     "name": "stderr",
     "output_type": "stream",
     "text": [
      "/var/folders/c5/yq5hwz6x591dwtqs54tvkdnw0000gn/T/ipykernel_6047/3294318981.py:4: FutureWarning: The frame.append method is deprecated and will be removed from pandas in a future version. Use pandas.concat instead.\n",
      "  df_products = df_products.append({'Product Name': product_name[i].text,  'Price New' : product_newprice[i].text,\n",
      "/var/folders/c5/yq5hwz6x591dwtqs54tvkdnw0000gn/T/ipykernel_6047/3294318981.py:4: FutureWarning: The frame.append method is deprecated and will be removed from pandas in a future version. Use pandas.concat instead.\n",
      "  df_products = df_products.append({'Product Name': product_name[i].text,  'Price New' : product_newprice[i].text,\n",
      "/var/folders/c5/yq5hwz6x591dwtqs54tvkdnw0000gn/T/ipykernel_6047/3294318981.py:4: FutureWarning: The frame.append method is deprecated and will be removed from pandas in a future version. Use pandas.concat instead.\n",
      "  df_products = df_products.append({'Product Name': product_name[i].text,  'Price New' : product_newprice[i].text,\n",
      "/var/folders/c5/yq5hwz6x591dwtqs54tvkdnw0000gn/T/ipykernel_6047/3294318981.py:4: FutureWarning: The frame.append method is deprecated and will be removed from pandas in a future version. Use pandas.concat instead.\n",
      "  df_products = df_products.append({'Product Name': product_name[i].text,  'Price New' : product_newprice[i].text,\n",
      "/var/folders/c5/yq5hwz6x591dwtqs54tvkdnw0000gn/T/ipykernel_6047/3294318981.py:4: FutureWarning: The frame.append method is deprecated and will be removed from pandas in a future version. Use pandas.concat instead.\n",
      "  df_products = df_products.append({'Product Name': product_name[i].text,  'Price New' : product_newprice[i].text,\n",
      "/var/folders/c5/yq5hwz6x591dwtqs54tvkdnw0000gn/T/ipykernel_6047/3294318981.py:4: FutureWarning: The frame.append method is deprecated and will be removed from pandas in a future version. Use pandas.concat instead.\n",
      "  df_products = df_products.append({'Product Name': product_name[i].text,  'Price New' : product_newprice[i].text,\n",
      "/var/folders/c5/yq5hwz6x591dwtqs54tvkdnw0000gn/T/ipykernel_6047/3294318981.py:4: FutureWarning: The frame.append method is deprecated and will be removed from pandas in a future version. Use pandas.concat instead.\n",
      "  df_products = df_products.append({'Product Name': product_name[i].text,  'Price New' : product_newprice[i].text,\n",
      "/var/folders/c5/yq5hwz6x591dwtqs54tvkdnw0000gn/T/ipykernel_6047/3294318981.py:4: FutureWarning: The frame.append method is deprecated and will be removed from pandas in a future version. Use pandas.concat instead.\n",
      "  df_products = df_products.append({'Product Name': product_name[i].text,  'Price New' : product_newprice[i].text,\n",
      "/var/folders/c5/yq5hwz6x591dwtqs54tvkdnw0000gn/T/ipykernel_6047/3294318981.py:4: FutureWarning: The frame.append method is deprecated and will be removed from pandas in a future version. Use pandas.concat instead.\n",
      "  df_products = df_products.append({'Product Name': product_name[i].text,  'Price New' : product_newprice[i].text,\n",
      "/var/folders/c5/yq5hwz6x591dwtqs54tvkdnw0000gn/T/ipykernel_6047/3294318981.py:4: FutureWarning: The frame.append method is deprecated and will be removed from pandas in a future version. Use pandas.concat instead.\n",
      "  df_products = df_products.append({'Product Name': product_name[i].text,  'Price New' : product_newprice[i].text,\n",
      "/var/folders/c5/yq5hwz6x591dwtqs54tvkdnw0000gn/T/ipykernel_6047/3294318981.py:4: FutureWarning: The frame.append method is deprecated and will be removed from pandas in a future version. Use pandas.concat instead.\n",
      "  df_products = df_products.append({'Product Name': product_name[i].text,  'Price New' : product_newprice[i].text,\n",
      "/var/folders/c5/yq5hwz6x591dwtqs54tvkdnw0000gn/T/ipykernel_6047/3294318981.py:4: FutureWarning: The frame.append method is deprecated and will be removed from pandas in a future version. Use pandas.concat instead.\n",
      "  df_products = df_products.append({'Product Name': product_name[i].text,  'Price New' : product_newprice[i].text,\n",
      "/var/folders/c5/yq5hwz6x591dwtqs54tvkdnw0000gn/T/ipykernel_6047/3294318981.py:4: FutureWarning: The frame.append method is deprecated and will be removed from pandas in a future version. Use pandas.concat instead.\n",
      "  df_products = df_products.append({'Product Name': product_name[i].text,  'Price New' : product_newprice[i].text,\n",
      "/var/folders/c5/yq5hwz6x591dwtqs54tvkdnw0000gn/T/ipykernel_6047/3294318981.py:4: FutureWarning: The frame.append method is deprecated and will be removed from pandas in a future version. Use pandas.concat instead.\n",
      "  df_products = df_products.append({'Product Name': product_name[i].text,  'Price New' : product_newprice[i].text,\n",
      "/var/folders/c5/yq5hwz6x591dwtqs54tvkdnw0000gn/T/ipykernel_6047/3294318981.py:4: FutureWarning: The frame.append method is deprecated and will be removed from pandas in a future version. Use pandas.concat instead.\n",
      "  df_products = df_products.append({'Product Name': product_name[i].text,  'Price New' : product_newprice[i].text,\n",
      "/var/folders/c5/yq5hwz6x591dwtqs54tvkdnw0000gn/T/ipykernel_6047/3294318981.py:4: FutureWarning: The frame.append method is deprecated and will be removed from pandas in a future version. Use pandas.concat instead.\n",
      "  df_products = df_products.append({'Product Name': product_name[i].text,  'Price New' : product_newprice[i].text,\n",
      "/var/folders/c5/yq5hwz6x591dwtqs54tvkdnw0000gn/T/ipykernel_6047/3294318981.py:4: FutureWarning: The frame.append method is deprecated and will be removed from pandas in a future version. Use pandas.concat instead.\n",
      "  df_products = df_products.append({'Product Name': product_name[i].text,  'Price New' : product_newprice[i].text,\n",
      "/var/folders/c5/yq5hwz6x591dwtqs54tvkdnw0000gn/T/ipykernel_6047/3294318981.py:4: FutureWarning: The frame.append method is deprecated and will be removed from pandas in a future version. Use pandas.concat instead.\n",
      "  df_products = df_products.append({'Product Name': product_name[i].text,  'Price New' : product_newprice[i].text,\n",
      "/var/folders/c5/yq5hwz6x591dwtqs54tvkdnw0000gn/T/ipykernel_6047/3294318981.py:4: FutureWarning: The frame.append method is deprecated and will be removed from pandas in a future version. Use pandas.concat instead.\n",
      "  df_products = df_products.append({'Product Name': product_name[i].text,  'Price New' : product_newprice[i].text,\n",
      "/var/folders/c5/yq5hwz6x591dwtqs54tvkdnw0000gn/T/ipykernel_6047/3294318981.py:4: FutureWarning: The frame.append method is deprecated and will be removed from pandas in a future version. Use pandas.concat instead.\n",
      "  df_products = df_products.append({'Product Name': product_name[i].text,  'Price New' : product_newprice[i].text,\n",
      "/var/folders/c5/yq5hwz6x591dwtqs54tvkdnw0000gn/T/ipykernel_6047/3294318981.py:4: FutureWarning: The frame.append method is deprecated and will be removed from pandas in a future version. Use pandas.concat instead.\n",
      "  df_products = df_products.append({'Product Name': product_name[i].text,  'Price New' : product_newprice[i].text,\n",
      "/var/folders/c5/yq5hwz6x591dwtqs54tvkdnw0000gn/T/ipykernel_6047/3294318981.py:4: FutureWarning: The frame.append method is deprecated and will be removed from pandas in a future version. Use pandas.concat instead.\n",
      "  df_products = df_products.append({'Product Name': product_name[i].text,  'Price New' : product_newprice[i].text,\n",
      "/var/folders/c5/yq5hwz6x591dwtqs54tvkdnw0000gn/T/ipykernel_6047/3294318981.py:4: FutureWarning: The frame.append method is deprecated and will be removed from pandas in a future version. Use pandas.concat instead.\n",
      "  df_products = df_products.append({'Product Name': product_name[i].text,  'Price New' : product_newprice[i].text,\n",
      "/var/folders/c5/yq5hwz6x591dwtqs54tvkdnw0000gn/T/ipykernel_6047/3294318981.py:4: FutureWarning: The frame.append method is deprecated and will be removed from pandas in a future version. Use pandas.concat instead.\n",
      "  df_products = df_products.append({'Product Name': product_name[i].text,  'Price New' : product_newprice[i].text,\n",
      "/var/folders/c5/yq5hwz6x591dwtqs54tvkdnw0000gn/T/ipykernel_6047/3294318981.py:4: FutureWarning: The frame.append method is deprecated and will be removed from pandas in a future version. Use pandas.concat instead.\n",
      "  df_products = df_products.append({'Product Name': product_name[i].text,  'Price New' : product_newprice[i].text,\n",
      "/var/folders/c5/yq5hwz6x591dwtqs54tvkdnw0000gn/T/ipykernel_6047/3294318981.py:4: FutureWarning: The frame.append method is deprecated and will be removed from pandas in a future version. Use pandas.concat instead.\n",
      "  df_products = df_products.append({'Product Name': product_name[i].text,  'Price New' : product_newprice[i].text,\n",
      "/var/folders/c5/yq5hwz6x591dwtqs54tvkdnw0000gn/T/ipykernel_6047/3294318981.py:4: FutureWarning: The frame.append method is deprecated and will be removed from pandas in a future version. Use pandas.concat instead.\n",
      "  df_products = df_products.append({'Product Name': product_name[i].text,  'Price New' : product_newprice[i].text,\n"
     ]
    },
    {
     "name": "stderr",
     "output_type": "stream",
     "text": [
      "/var/folders/c5/yq5hwz6x591dwtqs54tvkdnw0000gn/T/ipykernel_6047/3294318981.py:4: FutureWarning: The frame.append method is deprecated and will be removed from pandas in a future version. Use pandas.concat instead.\n",
      "  df_products = df_products.append({'Product Name': product_name[i].text,  'Price New' : product_newprice[i].text,\n",
      "/var/folders/c5/yq5hwz6x591dwtqs54tvkdnw0000gn/T/ipykernel_6047/3294318981.py:4: FutureWarning: The frame.append method is deprecated and will be removed from pandas in a future version. Use pandas.concat instead.\n",
      "  df_products = df_products.append({'Product Name': product_name[i].text,  'Price New' : product_newprice[i].text,\n",
      "/var/folders/c5/yq5hwz6x591dwtqs54tvkdnw0000gn/T/ipykernel_6047/3294318981.py:4: FutureWarning: The frame.append method is deprecated and will be removed from pandas in a future version. Use pandas.concat instead.\n",
      "  df_products = df_products.append({'Product Name': product_name[i].text,  'Price New' : product_newprice[i].text,\n",
      "/var/folders/c5/yq5hwz6x591dwtqs54tvkdnw0000gn/T/ipykernel_6047/3294318981.py:4: FutureWarning: The frame.append method is deprecated and will be removed from pandas in a future version. Use pandas.concat instead.\n",
      "  df_products = df_products.append({'Product Name': product_name[i].text,  'Price New' : product_newprice[i].text,\n",
      "/var/folders/c5/yq5hwz6x591dwtqs54tvkdnw0000gn/T/ipykernel_6047/3294318981.py:4: FutureWarning: The frame.append method is deprecated and will be removed from pandas in a future version. Use pandas.concat instead.\n",
      "  df_products = df_products.append({'Product Name': product_name[i].text,  'Price New' : product_newprice[i].text,\n",
      "/var/folders/c5/yq5hwz6x591dwtqs54tvkdnw0000gn/T/ipykernel_6047/3294318981.py:4: FutureWarning: The frame.append method is deprecated and will be removed from pandas in a future version. Use pandas.concat instead.\n",
      "  df_products = df_products.append({'Product Name': product_name[i].text,  'Price New' : product_newprice[i].text,\n",
      "/var/folders/c5/yq5hwz6x591dwtqs54tvkdnw0000gn/T/ipykernel_6047/3294318981.py:4: FutureWarning: The frame.append method is deprecated and will be removed from pandas in a future version. Use pandas.concat instead.\n",
      "  df_products = df_products.append({'Product Name': product_name[i].text,  'Price New' : product_newprice[i].text,\n",
      "/var/folders/c5/yq5hwz6x591dwtqs54tvkdnw0000gn/T/ipykernel_6047/3294318981.py:4: FutureWarning: The frame.append method is deprecated and will be removed from pandas in a future version. Use pandas.concat instead.\n",
      "  df_products = df_products.append({'Product Name': product_name[i].text,  'Price New' : product_newprice[i].text,\n",
      "/var/folders/c5/yq5hwz6x591dwtqs54tvkdnw0000gn/T/ipykernel_6047/3294318981.py:4: FutureWarning: The frame.append method is deprecated and will be removed from pandas in a future version. Use pandas.concat instead.\n",
      "  df_products = df_products.append({'Product Name': product_name[i].text,  'Price New' : product_newprice[i].text,\n",
      "/var/folders/c5/yq5hwz6x591dwtqs54tvkdnw0000gn/T/ipykernel_6047/3294318981.py:4: FutureWarning: The frame.append method is deprecated and will be removed from pandas in a future version. Use pandas.concat instead.\n",
      "  df_products = df_products.append({'Product Name': product_name[i].text,  'Price New' : product_newprice[i].text,\n",
      "/var/folders/c5/yq5hwz6x591dwtqs54tvkdnw0000gn/T/ipykernel_6047/3294318981.py:4: FutureWarning: The frame.append method is deprecated and will be removed from pandas in a future version. Use pandas.concat instead.\n",
      "  df_products = df_products.append({'Product Name': product_name[i].text,  'Price New' : product_newprice[i].text,\n",
      "/var/folders/c5/yq5hwz6x591dwtqs54tvkdnw0000gn/T/ipykernel_6047/3294318981.py:4: FutureWarning: The frame.append method is deprecated and will be removed from pandas in a future version. Use pandas.concat instead.\n",
      "  df_products = df_products.append({'Product Name': product_name[i].text,  'Price New' : product_newprice[i].text,\n",
      "/var/folders/c5/yq5hwz6x591dwtqs54tvkdnw0000gn/T/ipykernel_6047/3294318981.py:4: FutureWarning: The frame.append method is deprecated and will be removed from pandas in a future version. Use pandas.concat instead.\n",
      "  df_products = df_products.append({'Product Name': product_name[i].text,  'Price New' : product_newprice[i].text,\n",
      "/var/folders/c5/yq5hwz6x591dwtqs54tvkdnw0000gn/T/ipykernel_6047/3294318981.py:4: FutureWarning: The frame.append method is deprecated and will be removed from pandas in a future version. Use pandas.concat instead.\n",
      "  df_products = df_products.append({'Product Name': product_name[i].text,  'Price New' : product_newprice[i].text,\n",
      "/var/folders/c5/yq5hwz6x591dwtqs54tvkdnw0000gn/T/ipykernel_6047/3294318981.py:4: FutureWarning: The frame.append method is deprecated and will be removed from pandas in a future version. Use pandas.concat instead.\n",
      "  df_products = df_products.append({'Product Name': product_name[i].text,  'Price New' : product_newprice[i].text,\n",
      "/var/folders/c5/yq5hwz6x591dwtqs54tvkdnw0000gn/T/ipykernel_6047/3294318981.py:4: FutureWarning: The frame.append method is deprecated and will be removed from pandas in a future version. Use pandas.concat instead.\n",
      "  df_products = df_products.append({'Product Name': product_name[i].text,  'Price New' : product_newprice[i].text,\n",
      "/var/folders/c5/yq5hwz6x591dwtqs54tvkdnw0000gn/T/ipykernel_6047/3294318981.py:4: FutureWarning: The frame.append method is deprecated and will be removed from pandas in a future version. Use pandas.concat instead.\n",
      "  df_products = df_products.append({'Product Name': product_name[i].text,  'Price New' : product_newprice[i].text,\n",
      "/var/folders/c5/yq5hwz6x591dwtqs54tvkdnw0000gn/T/ipykernel_6047/3294318981.py:4: FutureWarning: The frame.append method is deprecated and will be removed from pandas in a future version. Use pandas.concat instead.\n",
      "  df_products = df_products.append({'Product Name': product_name[i].text,  'Price New' : product_newprice[i].text,\n",
      "/var/folders/c5/yq5hwz6x591dwtqs54tvkdnw0000gn/T/ipykernel_6047/3294318981.py:4: FutureWarning: The frame.append method is deprecated and will be removed from pandas in a future version. Use pandas.concat instead.\n",
      "  df_products = df_products.append({'Product Name': product_name[i].text,  'Price New' : product_newprice[i].text,\n",
      "/var/folders/c5/yq5hwz6x591dwtqs54tvkdnw0000gn/T/ipykernel_6047/3294318981.py:4: FutureWarning: The frame.append method is deprecated and will be removed from pandas in a future version. Use pandas.concat instead.\n",
      "  df_products = df_products.append({'Product Name': product_name[i].text,  'Price New' : product_newprice[i].text,\n",
      "/var/folders/c5/yq5hwz6x591dwtqs54tvkdnw0000gn/T/ipykernel_6047/3294318981.py:4: FutureWarning: The frame.append method is deprecated and will be removed from pandas in a future version. Use pandas.concat instead.\n",
      "  df_products = df_products.append({'Product Name': product_name[i].text,  'Price New' : product_newprice[i].text,\n",
      "/var/folders/c5/yq5hwz6x591dwtqs54tvkdnw0000gn/T/ipykernel_6047/3294318981.py:4: FutureWarning: The frame.append method is deprecated and will be removed from pandas in a future version. Use pandas.concat instead.\n",
      "  df_products = df_products.append({'Product Name': product_name[i].text,  'Price New' : product_newprice[i].text,\n",
      "/var/folders/c5/yq5hwz6x591dwtqs54tvkdnw0000gn/T/ipykernel_6047/3294318981.py:4: FutureWarning: The frame.append method is deprecated and will be removed from pandas in a future version. Use pandas.concat instead.\n",
      "  df_products = df_products.append({'Product Name': product_name[i].text,  'Price New' : product_newprice[i].text,\n",
      "/var/folders/c5/yq5hwz6x591dwtqs54tvkdnw0000gn/T/ipykernel_6047/3294318981.py:4: FutureWarning: The frame.append method is deprecated and will be removed from pandas in a future version. Use pandas.concat instead.\n",
      "  df_products = df_products.append({'Product Name': product_name[i].text,  'Price New' : product_newprice[i].text,\n",
      "/var/folders/c5/yq5hwz6x591dwtqs54tvkdnw0000gn/T/ipykernel_6047/3294318981.py:4: FutureWarning: The frame.append method is deprecated and will be removed from pandas in a future version. Use pandas.concat instead.\n",
      "  df_products = df_products.append({'Product Name': product_name[i].text,  'Price New' : product_newprice[i].text,\n",
      "/var/folders/c5/yq5hwz6x591dwtqs54tvkdnw0000gn/T/ipykernel_6047/3294318981.py:4: FutureWarning: The frame.append method is deprecated and will be removed from pandas in a future version. Use pandas.concat instead.\n",
      "  df_products = df_products.append({'Product Name': product_name[i].text,  'Price New' : product_newprice[i].text,\n",
      "/var/folders/c5/yq5hwz6x591dwtqs54tvkdnw0000gn/T/ipykernel_6047/3294318981.py:4: FutureWarning: The frame.append method is deprecated and will be removed from pandas in a future version. Use pandas.concat instead.\n",
      "  df_products = df_products.append({'Product Name': product_name[i].text,  'Price New' : product_newprice[i].text,\n",
      "/var/folders/c5/yq5hwz6x591dwtqs54tvkdnw0000gn/T/ipykernel_6047/3294318981.py:4: FutureWarning: The frame.append method is deprecated and will be removed from pandas in a future version. Use pandas.concat instead.\n",
      "  df_products = df_products.append({'Product Name': product_name[i].text,  'Price New' : product_newprice[i].text,\n"
     ]
    },
    {
     "name": "stderr",
     "output_type": "stream",
     "text": [
      "/var/folders/c5/yq5hwz6x591dwtqs54tvkdnw0000gn/T/ipykernel_6047/3294318981.py:4: FutureWarning: The frame.append method is deprecated and will be removed from pandas in a future version. Use pandas.concat instead.\n",
      "  df_products = df_products.append({'Product Name': product_name[i].text,  'Price New' : product_newprice[i].text,\n",
      "/var/folders/c5/yq5hwz6x591dwtqs54tvkdnw0000gn/T/ipykernel_6047/3294318981.py:4: FutureWarning: The frame.append method is deprecated and will be removed from pandas in a future version. Use pandas.concat instead.\n",
      "  df_products = df_products.append({'Product Name': product_name[i].text,  'Price New' : product_newprice[i].text,\n",
      "/var/folders/c5/yq5hwz6x591dwtqs54tvkdnw0000gn/T/ipykernel_6047/3294318981.py:4: FutureWarning: The frame.append method is deprecated and will be removed from pandas in a future version. Use pandas.concat instead.\n",
      "  df_products = df_products.append({'Product Name': product_name[i].text,  'Price New' : product_newprice[i].text,\n",
      "/var/folders/c5/yq5hwz6x591dwtqs54tvkdnw0000gn/T/ipykernel_6047/3294318981.py:4: FutureWarning: The frame.append method is deprecated and will be removed from pandas in a future version. Use pandas.concat instead.\n",
      "  df_products = df_products.append({'Product Name': product_name[i].text,  'Price New' : product_newprice[i].text,\n",
      "/var/folders/c5/yq5hwz6x591dwtqs54tvkdnw0000gn/T/ipykernel_6047/3294318981.py:4: FutureWarning: The frame.append method is deprecated and will be removed from pandas in a future version. Use pandas.concat instead.\n",
      "  df_products = df_products.append({'Product Name': product_name[i].text,  'Price New' : product_newprice[i].text,\n",
      "/var/folders/c5/yq5hwz6x591dwtqs54tvkdnw0000gn/T/ipykernel_6047/3294318981.py:4: FutureWarning: The frame.append method is deprecated and will be removed from pandas in a future version. Use pandas.concat instead.\n",
      "  df_products = df_products.append({'Product Name': product_name[i].text,  'Price New' : product_newprice[i].text,\n",
      "/var/folders/c5/yq5hwz6x591dwtqs54tvkdnw0000gn/T/ipykernel_6047/3294318981.py:4: FutureWarning: The frame.append method is deprecated and will be removed from pandas in a future version. Use pandas.concat instead.\n",
      "  df_products = df_products.append({'Product Name': product_name[i].text,  'Price New' : product_newprice[i].text,\n",
      "/var/folders/c5/yq5hwz6x591dwtqs54tvkdnw0000gn/T/ipykernel_6047/3294318981.py:4: FutureWarning: The frame.append method is deprecated and will be removed from pandas in a future version. Use pandas.concat instead.\n",
      "  df_products = df_products.append({'Product Name': product_name[i].text,  'Price New' : product_newprice[i].text,\n",
      "/var/folders/c5/yq5hwz6x591dwtqs54tvkdnw0000gn/T/ipykernel_6047/3294318981.py:4: FutureWarning: The frame.append method is deprecated and will be removed from pandas in a future version. Use pandas.concat instead.\n",
      "  df_products = df_products.append({'Product Name': product_name[i].text,  'Price New' : product_newprice[i].text,\n",
      "/var/folders/c5/yq5hwz6x591dwtqs54tvkdnw0000gn/T/ipykernel_6047/3294318981.py:4: FutureWarning: The frame.append method is deprecated and will be removed from pandas in a future version. Use pandas.concat instead.\n",
      "  df_products = df_products.append({'Product Name': product_name[i].text,  'Price New' : product_newprice[i].text,\n",
      "/var/folders/c5/yq5hwz6x591dwtqs54tvkdnw0000gn/T/ipykernel_6047/3294318981.py:4: FutureWarning: The frame.append method is deprecated and will be removed from pandas in a future version. Use pandas.concat instead.\n",
      "  df_products = df_products.append({'Product Name': product_name[i].text,  'Price New' : product_newprice[i].text,\n",
      "/var/folders/c5/yq5hwz6x591dwtqs54tvkdnw0000gn/T/ipykernel_6047/3294318981.py:4: FutureWarning: The frame.append method is deprecated and will be removed from pandas in a future version. Use pandas.concat instead.\n",
      "  df_products = df_products.append({'Product Name': product_name[i].text,  'Price New' : product_newprice[i].text,\n",
      "/var/folders/c5/yq5hwz6x591dwtqs54tvkdnw0000gn/T/ipykernel_6047/3294318981.py:4: FutureWarning: The frame.append method is deprecated and will be removed from pandas in a future version. Use pandas.concat instead.\n",
      "  df_products = df_products.append({'Product Name': product_name[i].text,  'Price New' : product_newprice[i].text,\n",
      "/var/folders/c5/yq5hwz6x591dwtqs54tvkdnw0000gn/T/ipykernel_6047/3294318981.py:4: FutureWarning: The frame.append method is deprecated and will be removed from pandas in a future version. Use pandas.concat instead.\n",
      "  df_products = df_products.append({'Product Name': product_name[i].text,  'Price New' : product_newprice[i].text,\n",
      "/var/folders/c5/yq5hwz6x591dwtqs54tvkdnw0000gn/T/ipykernel_6047/3294318981.py:4: FutureWarning: The frame.append method is deprecated and will be removed from pandas in a future version. Use pandas.concat instead.\n",
      "  df_products = df_products.append({'Product Name': product_name[i].text,  'Price New' : product_newprice[i].text,\n",
      "/var/folders/c5/yq5hwz6x591dwtqs54tvkdnw0000gn/T/ipykernel_6047/3294318981.py:4: FutureWarning: The frame.append method is deprecated and will be removed from pandas in a future version. Use pandas.concat instead.\n",
      "  df_products = df_products.append({'Product Name': product_name[i].text,  'Price New' : product_newprice[i].text,\n",
      "/var/folders/c5/yq5hwz6x591dwtqs54tvkdnw0000gn/T/ipykernel_6047/3294318981.py:4: FutureWarning: The frame.append method is deprecated and will be removed from pandas in a future version. Use pandas.concat instead.\n",
      "  df_products = df_products.append({'Product Name': product_name[i].text,  'Price New' : product_newprice[i].text,\n",
      "/var/folders/c5/yq5hwz6x591dwtqs54tvkdnw0000gn/T/ipykernel_6047/3294318981.py:4: FutureWarning: The frame.append method is deprecated and will be removed from pandas in a future version. Use pandas.concat instead.\n",
      "  df_products = df_products.append({'Product Name': product_name[i].text,  'Price New' : product_newprice[i].text,\n",
      "/var/folders/c5/yq5hwz6x591dwtqs54tvkdnw0000gn/T/ipykernel_6047/3294318981.py:4: FutureWarning: The frame.append method is deprecated and will be removed from pandas in a future version. Use pandas.concat instead.\n",
      "  df_products = df_products.append({'Product Name': product_name[i].text,  'Price New' : product_newprice[i].text,\n",
      "/var/folders/c5/yq5hwz6x591dwtqs54tvkdnw0000gn/T/ipykernel_6047/3294318981.py:4: FutureWarning: The frame.append method is deprecated and will be removed from pandas in a future version. Use pandas.concat instead.\n",
      "  df_products = df_products.append({'Product Name': product_name[i].text,  'Price New' : product_newprice[i].text,\n",
      "/var/folders/c5/yq5hwz6x591dwtqs54tvkdnw0000gn/T/ipykernel_6047/3294318981.py:4: FutureWarning: The frame.append method is deprecated and will be removed from pandas in a future version. Use pandas.concat instead.\n",
      "  df_products = df_products.append({'Product Name': product_name[i].text,  'Price New' : product_newprice[i].text,\n",
      "/var/folders/c5/yq5hwz6x591dwtqs54tvkdnw0000gn/T/ipykernel_6047/3294318981.py:4: FutureWarning: The frame.append method is deprecated and will be removed from pandas in a future version. Use pandas.concat instead.\n",
      "  df_products = df_products.append({'Product Name': product_name[i].text,  'Price New' : product_newprice[i].text,\n",
      "/var/folders/c5/yq5hwz6x591dwtqs54tvkdnw0000gn/T/ipykernel_6047/3294318981.py:4: FutureWarning: The frame.append method is deprecated and will be removed from pandas in a future version. Use pandas.concat instead.\n",
      "  df_products = df_products.append({'Product Name': product_name[i].text,  'Price New' : product_newprice[i].text,\n",
      "/var/folders/c5/yq5hwz6x591dwtqs54tvkdnw0000gn/T/ipykernel_6047/3294318981.py:4: FutureWarning: The frame.append method is deprecated and will be removed from pandas in a future version. Use pandas.concat instead.\n",
      "  df_products = df_products.append({'Product Name': product_name[i].text,  'Price New' : product_newprice[i].text,\n",
      "/var/folders/c5/yq5hwz6x591dwtqs54tvkdnw0000gn/T/ipykernel_6047/3294318981.py:4: FutureWarning: The frame.append method is deprecated and will be removed from pandas in a future version. Use pandas.concat instead.\n",
      "  df_products = df_products.append({'Product Name': product_name[i].text,  'Price New' : product_newprice[i].text,\n",
      "/var/folders/c5/yq5hwz6x591dwtqs54tvkdnw0000gn/T/ipykernel_6047/3294318981.py:4: FutureWarning: The frame.append method is deprecated and will be removed from pandas in a future version. Use pandas.concat instead.\n",
      "  df_products = df_products.append({'Product Name': product_name[i].text,  'Price New' : product_newprice[i].text,\n",
      "/var/folders/c5/yq5hwz6x591dwtqs54tvkdnw0000gn/T/ipykernel_6047/3294318981.py:4: FutureWarning: The frame.append method is deprecated and will be removed from pandas in a future version. Use pandas.concat instead.\n",
      "  df_products = df_products.append({'Product Name': product_name[i].text,  'Price New' : product_newprice[i].text,\n",
      "/var/folders/c5/yq5hwz6x591dwtqs54tvkdnw0000gn/T/ipykernel_6047/3294318981.py:4: FutureWarning: The frame.append method is deprecated and will be removed from pandas in a future version. Use pandas.concat instead.\n",
      "  df_products = df_products.append({'Product Name': product_name[i].text,  'Price New' : product_newprice[i].text,\n"
     ]
    },
    {
     "name": "stderr",
     "output_type": "stream",
     "text": [
      "/var/folders/c5/yq5hwz6x591dwtqs54tvkdnw0000gn/T/ipykernel_6047/3294318981.py:4: FutureWarning: The frame.append method is deprecated and will be removed from pandas in a future version. Use pandas.concat instead.\n",
      "  df_products = df_products.append({'Product Name': product_name[i].text,  'Price New' : product_newprice[i].text,\n",
      "/var/folders/c5/yq5hwz6x591dwtqs54tvkdnw0000gn/T/ipykernel_6047/3294318981.py:4: FutureWarning: The frame.append method is deprecated and will be removed from pandas in a future version. Use pandas.concat instead.\n",
      "  df_products = df_products.append({'Product Name': product_name[i].text,  'Price New' : product_newprice[i].text,\n",
      "/var/folders/c5/yq5hwz6x591dwtqs54tvkdnw0000gn/T/ipykernel_6047/3294318981.py:4: FutureWarning: The frame.append method is deprecated and will be removed from pandas in a future version. Use pandas.concat instead.\n",
      "  df_products = df_products.append({'Product Name': product_name[i].text,  'Price New' : product_newprice[i].text,\n",
      "/var/folders/c5/yq5hwz6x591dwtqs54tvkdnw0000gn/T/ipykernel_6047/3294318981.py:4: FutureWarning: The frame.append method is deprecated and will be removed from pandas in a future version. Use pandas.concat instead.\n",
      "  df_products = df_products.append({'Product Name': product_name[i].text,  'Price New' : product_newprice[i].text,\n",
      "/var/folders/c5/yq5hwz6x591dwtqs54tvkdnw0000gn/T/ipykernel_6047/3294318981.py:4: FutureWarning: The frame.append method is deprecated and will be removed from pandas in a future version. Use pandas.concat instead.\n",
      "  df_products = df_products.append({'Product Name': product_name[i].text,  'Price New' : product_newprice[i].text,\n",
      "/var/folders/c5/yq5hwz6x591dwtqs54tvkdnw0000gn/T/ipykernel_6047/3294318981.py:4: FutureWarning: The frame.append method is deprecated and will be removed from pandas in a future version. Use pandas.concat instead.\n",
      "  df_products = df_products.append({'Product Name': product_name[i].text,  'Price New' : product_newprice[i].text,\n",
      "/var/folders/c5/yq5hwz6x591dwtqs54tvkdnw0000gn/T/ipykernel_6047/3294318981.py:4: FutureWarning: The frame.append method is deprecated and will be removed from pandas in a future version. Use pandas.concat instead.\n",
      "  df_products = df_products.append({'Product Name': product_name[i].text,  'Price New' : product_newprice[i].text,\n",
      "/var/folders/c5/yq5hwz6x591dwtqs54tvkdnw0000gn/T/ipykernel_6047/3294318981.py:4: FutureWarning: The frame.append method is deprecated and will be removed from pandas in a future version. Use pandas.concat instead.\n",
      "  df_products = df_products.append({'Product Name': product_name[i].text,  'Price New' : product_newprice[i].text,\n",
      "/var/folders/c5/yq5hwz6x591dwtqs54tvkdnw0000gn/T/ipykernel_6047/3294318981.py:4: FutureWarning: The frame.append method is deprecated and will be removed from pandas in a future version. Use pandas.concat instead.\n",
      "  df_products = df_products.append({'Product Name': product_name[i].text,  'Price New' : product_newprice[i].text,\n",
      "/var/folders/c5/yq5hwz6x591dwtqs54tvkdnw0000gn/T/ipykernel_6047/3294318981.py:4: FutureWarning: The frame.append method is deprecated and will be removed from pandas in a future version. Use pandas.concat instead.\n",
      "  df_products = df_products.append({'Product Name': product_name[i].text,  'Price New' : product_newprice[i].text,\n",
      "/var/folders/c5/yq5hwz6x591dwtqs54tvkdnw0000gn/T/ipykernel_6047/3294318981.py:4: FutureWarning: The frame.append method is deprecated and will be removed from pandas in a future version. Use pandas.concat instead.\n",
      "  df_products = df_products.append({'Product Name': product_name[i].text,  'Price New' : product_newprice[i].text,\n",
      "/var/folders/c5/yq5hwz6x591dwtqs54tvkdnw0000gn/T/ipykernel_6047/3294318981.py:4: FutureWarning: The frame.append method is deprecated and will be removed from pandas in a future version. Use pandas.concat instead.\n",
      "  df_products = df_products.append({'Product Name': product_name[i].text,  'Price New' : product_newprice[i].text,\n",
      "/var/folders/c5/yq5hwz6x591dwtqs54tvkdnw0000gn/T/ipykernel_6047/3294318981.py:4: FutureWarning: The frame.append method is deprecated and will be removed from pandas in a future version. Use pandas.concat instead.\n",
      "  df_products = df_products.append({'Product Name': product_name[i].text,  'Price New' : product_newprice[i].text,\n",
      "/var/folders/c5/yq5hwz6x591dwtqs54tvkdnw0000gn/T/ipykernel_6047/3294318981.py:4: FutureWarning: The frame.append method is deprecated and will be removed from pandas in a future version. Use pandas.concat instead.\n",
      "  df_products = df_products.append({'Product Name': product_name[i].text,  'Price New' : product_newprice[i].text,\n",
      "/var/folders/c5/yq5hwz6x591dwtqs54tvkdnw0000gn/T/ipykernel_6047/3294318981.py:4: FutureWarning: The frame.append method is deprecated and will be removed from pandas in a future version. Use pandas.concat instead.\n",
      "  df_products = df_products.append({'Product Name': product_name[i].text,  'Price New' : product_newprice[i].text,\n",
      "/var/folders/c5/yq5hwz6x591dwtqs54tvkdnw0000gn/T/ipykernel_6047/3294318981.py:4: FutureWarning: The frame.append method is deprecated and will be removed from pandas in a future version. Use pandas.concat instead.\n",
      "  df_products = df_products.append({'Product Name': product_name[i].text,  'Price New' : product_newprice[i].text,\n",
      "/var/folders/c5/yq5hwz6x591dwtqs54tvkdnw0000gn/T/ipykernel_6047/3294318981.py:4: FutureWarning: The frame.append method is deprecated and will be removed from pandas in a future version. Use pandas.concat instead.\n",
      "  df_products = df_products.append({'Product Name': product_name[i].text,  'Price New' : product_newprice[i].text,\n"
     ]
    }
   ],
   "source": [
    "#For first 100 products, name and prices are tracked and stored in the dataframe df_products\n",
    "\n",
    "for i in range(100):\n",
    "    df_products = df_products.append({'Product Name': product_name[i].text,  'Price New' : product_newprice[i].text,\n",
    "                                     }, ignore_index = True)\n",
    "    "
   ]
  },
  {
   "cell_type": "code",
   "execution_count": 10,
   "id": "8fc3afee",
   "metadata": {
    "scrolled": false
   },
   "outputs": [
    {
     "data": {
      "text/html": [
       "<div>\n",
       "<style scoped>\n",
       "    .dataframe tbody tr th:only-of-type {\n",
       "        vertical-align: middle;\n",
       "    }\n",
       "\n",
       "    .dataframe tbody tr th {\n",
       "        vertical-align: top;\n",
       "    }\n",
       "\n",
       "    .dataframe thead th {\n",
       "        text-align: right;\n",
       "    }\n",
       "</style>\n",
       "<table border=\"1\" class=\"dataframe\">\n",
       "  <thead>\n",
       "    <tr style=\"text-align: right;\">\n",
       "      <th></th>\n",
       "      <th>Product Name</th>\n",
       "      <th>Price New</th>\n",
       "    </tr>\n",
       "  </thead>\n",
       "  <tbody>\n",
       "    <tr>\n",
       "      <th>0</th>\n",
       "      <td>1pc Stainless Steel Strainer, Kitchen Drain Sp...</td>\n",
       "      <td>$2.90</td>\n",
       "    </tr>\n",
       "    <tr>\n",
       "      <th>1</th>\n",
       "      <td>1pc Random Color Rice Washing Spoon</td>\n",
       "      <td>$0.89</td>\n",
       "    </tr>\n",
       "    <tr>\n",
       "      <th>2</th>\n",
       "      <td>1pc Portable Emergency Urinal</td>\n",
       "      <td>$2.80</td>\n",
       "    </tr>\n",
       "    <tr>\n",
       "      <th>3</th>\n",
       "      <td>50pcs Clear Food Cover, TPE Food Wrap, Reusabl...</td>\n",
       "      <td>$1.60</td>\n",
       "    </tr>\n",
       "    <tr>\n",
       "      <th>4</th>\n",
       "      <td>1pc Random Color Collapsible Funnel, Food Funn...</td>\n",
       "      <td>$1.10</td>\n",
       "    </tr>\n",
       "    <tr>\n",
       "      <th>...</th>\n",
       "      <td>...</td>\n",
       "      <td>...</td>\n",
       "    </tr>\n",
       "    <tr>\n",
       "      <th>95</th>\n",
       "      <td>1roll Kitchen Label Sticker, Simple Black Pape...</td>\n",
       "      <td>$2.10</td>\n",
       "    </tr>\n",
       "    <tr>\n",
       "      <th>96</th>\n",
       "      <td>1pc Wooden Insulation Pad, Simple Hollow Out H...</td>\n",
       "      <td>$1.75</td>\n",
       "    </tr>\n",
       "    <tr>\n",
       "      <th>97</th>\n",
       "      <td>1pc Silicone Faucet Mat &amp; Splash Guard, (Upgra...</td>\n",
       "      <td>$2.75</td>\n",
       "    </tr>\n",
       "    <tr>\n",
       "      <th>98</th>\n",
       "      <td>1pc Plastic Food Cover, Minimalist Clear Food ...</td>\n",
       "      <td>$2.00</td>\n",
       "    </tr>\n",
       "    <tr>\n",
       "      <th>99</th>\n",
       "      <td>2pcs/set TPR Anti-scald Finger Clip, Red Anti-...</td>\n",
       "      <td>$2.40</td>\n",
       "    </tr>\n",
       "  </tbody>\n",
       "</table>\n",
       "<p>100 rows × 2 columns</p>\n",
       "</div>"
      ],
      "text/plain": [
       "                                         Product Name Price New\n",
       "0   1pc Stainless Steel Strainer, Kitchen Drain Sp...     $2.90\n",
       "1                 1pc Random Color Rice Washing Spoon     $0.89\n",
       "2                       1pc Portable Emergency Urinal     $2.80\n",
       "3   50pcs Clear Food Cover, TPE Food Wrap, Reusabl...     $1.60\n",
       "4   1pc Random Color Collapsible Funnel, Food Funn...     $1.10\n",
       "..                                                ...       ...\n",
       "95  1roll Kitchen Label Sticker, Simple Black Pape...     $2.10\n",
       "96  1pc Wooden Insulation Pad, Simple Hollow Out H...     $1.75\n",
       "97  1pc Silicone Faucet Mat & Splash Guard, (Upgra...     $2.75\n",
       "98  1pc Plastic Food Cover, Minimalist Clear Food ...     $2.00\n",
       "99  2pcs/set TPR Anti-scald Finger Clip, Red Anti-...     $2.40\n",
       "\n",
       "[100 rows x 2 columns]"
      ]
     },
     "execution_count": 10,
     "metadata": {},
     "output_type": "execute_result"
    }
   ],
   "source": [
    "#Preview the scraped information\n",
    "\n",
    "df_products"
   ]
  },
  {
   "cell_type": "code",
   "execution_count": 11,
   "id": "d516f41c",
   "metadata": {},
   "outputs": [],
   "source": [
    "# Converts the dataframe to excel spreadsheet\n",
    "\n",
    "df_products.to_excel(\"TopRated_Mar30.xlsx\", index = False)"
   ]
  },
  {
   "cell_type": "code",
   "execution_count": null,
   "id": "b648a4fc",
   "metadata": {},
   "outputs": [],
   "source": []
  }
 ],
 "metadata": {
  "kernelspec": {
   "display_name": "Python 3 (ipykernel)",
   "language": "python",
   "name": "python3"
  },
  "language_info": {
   "codemirror_mode": {
    "name": "ipython",
    "version": 3
   },
   "file_extension": ".py",
   "mimetype": "text/x-python",
   "name": "python",
   "nbconvert_exporter": "python",
   "pygments_lexer": "ipython3",
   "version": "3.9.12"
  }
 },
 "nbformat": 4,
 "nbformat_minor": 5
}
